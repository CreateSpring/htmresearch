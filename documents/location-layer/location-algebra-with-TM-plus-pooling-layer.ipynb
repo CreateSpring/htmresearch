{
 "cells": [
  {
   "cell_type": "markdown",
   "metadata": {},
   "source": [
    "## Location algebra with small cell counts: TM + Pooling layer\n",
    "\n",
    "Here are results for this network:\n",
    "\n",
    "<img src=\"images/memorize-math-pooled-tm.png\" style=\"width: 400px; margin-left: 0;\" />"
   ]
  },
  {
   "cell_type": "code",
   "execution_count": null,
   "metadata": {},
   "outputs": [],
   "source": [
    "import json\n",
    "\n",
    "import plotly.offline as py\n",
    "py.init_notebook_mode()\n",
    "import plotly.graph_objs as go"
   ]
  },
  {
   "cell_type": "code",
   "execution_count": null,
   "metadata": {
    "collapsed": true
   },
   "outputs": [],
   "source": [
    "def printPlot(title, data, intuitive=True):    \n",
    "    traces = []\n",
    "    for label, resultsByUnionSize in data:\n",
    "        x = []\n",
    "        y = []\n",
    "        for unionSize, results in sorted(resultsByUnionSize,\n",
    "                                         key=lambda x: x[0]):\n",
    "            s = str(unionSize)\n",
    "            x += [s]*len(results)\n",
    "            \n",
    "            if intuitive:\n",
    "                y += list(unionSize + extra for extra in results)\n",
    "            else:\n",
    "                y += list(results)\n",
    "\n",
    "        traces.append(go.Box(\n",
    "            x=x,\n",
    "            y=y,\n",
    "            name=label,\n",
    "            boxpoints = False\n",
    "        ))\n",
    "\n",
    "    py.iplot({\n",
    "        \"data\": traces,\n",
    "        \"layout\": {\n",
    "            'title': title,\n",
    "            'xaxis': {\n",
    "                'title': '# SDRs in',\n",
    "                'zeroline': False\n",
    "            },\n",
    "            'yaxis': {\n",
    "                'title': ('# SDRs out' if intuitive\n",
    "                          else '# additional SDRs out'),\n",
    "                'zeroline': False\n",
    "            },\n",
    "            'boxmode': 'group'\n",
    "        }\n",
    "    })\n",
    "    \n",
    "\n",
    "def fetchData(folder, n, w, threshold, cellsPerColumn):\n",
    "    filename = \"{}/n_{}_w_{}_threshold_{}_cellsPerColumn_{}.json\".format(\n",
    "      folder, n, w, threshold, cellsPerColumn)        \n",
    "\n",
    "    with open(filename, \"r\") as fileIn:\n",
    "        return json.load(fileIn)"
   ]
  },
  {
   "cell_type": "markdown",
   "metadata": {},
   "source": [
    "## After learning 625 pairs, 150 cells are pretty good at representing unions\n",
    "\n",
    "Here are the results with a dense minicolumn SDR."
   ]
  },
  {
   "cell_type": "code",
   "execution_count": null,
   "metadata": {},
   "outputs": [],
   "source": [
    "import plotly.offline as py\n",
    "py.init_notebook_mode()"
   ]
  },
  {
   "cell_type": "code",
   "execution_count": null,
   "metadata": {},
   "outputs": [],
   "source": [
    "printPlot(\n",
    "    \"Operating on unions: Dense minicolumn SDRs (n=15, w=10, threshold=8)\",\n",
    "    [[\"{} cells per column\".format(cellsPerColumn),\n",
    "      fetchData(\"data/default\", 15, 10, 8, cellsPerColumn)]\n",
    "     for cellsPerColumn in [7, 10, 13, 16]])"
   ]
  },
  {
   "cell_type": "markdown",
   "metadata": {},
   "source": [
    "150 cells can do a surprisingly good job of representing a union of many locations. 240 cells are almost perfect."
   ]
  },
  {
   "cell_type": "markdown",
   "metadata": {},
   "source": [
    "## Dense minicolumn SDRs make the TM better at unions"
   ]
  },
  {
   "cell_type": "code",
   "execution_count": null,
   "metadata": {},
   "outputs": [],
   "source": [
    "printPlot(\n",
    "    \"Operating on unions: Varying density of minicolumn SDRs (n=15, cellsPerColumn=10)\",\n",
    "    [[\"w={}, threshold={}\".format(w, threshold),\n",
    "      fetchData(\"data/default\", 15, w, threshold, 10)]\n",
    "     for w, threshold in [(3, 2), (4, 3), (5, 4), (10, 8)]])"
   ]
  },
  {
   "cell_type": "markdown",
   "metadata": {},
   "source": [
    "This happens because: having more cells allows you to represent larger unions. When you increase the minicolumn SDR density, you increase the number of cells that are allowed to participate in representing each union."
   ]
  }
 ],
 "metadata": {
  "kernelspec": {
   "display_name": "Python 2",
   "language": "python",
   "name": "python2"
  },
  "language_info": {
   "codemirror_mode": {
    "name": "ipython",
    "version": 2
   },
   "file_extension": ".py",
   "mimetype": "text/x-python",
   "name": "python",
   "nbconvert_exporter": "python",
   "pygments_lexer": "ipython2",
   "version": "2.7.12"
  }
 },
 "nbformat": 4,
 "nbformat_minor": 2
}
